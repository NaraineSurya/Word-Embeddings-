{
  "nbformat": 4,
  "nbformat_minor": 0,
  "metadata": {
    "colab": {
      "provenance": [],
      "authorship_tag": "ABX9TyP860ukDJ0DdExOlzVlpy7c",
      "include_colab_link": true
    },
    "kernelspec": {
      "name": "python3",
      "display_name": "Python 3"
    },
    "language_info": {
      "name": "python"
    }
  },
  "cells": [
    {
      "cell_type": "markdown",
      "metadata": {
        "id": "view-in-github",
        "colab_type": "text"
      },
      "source": [
        "<a href=\"https://colab.research.google.com/github/NaraineSurya/Word-Embeddings-/blob/master/Word_Embeddings_using_Keras.ipynb\" target=\"_parent\"><img src=\"https://colab.research.google.com/assets/colab-badge.svg\" alt=\"Open In Colab\"/></a>"
      ]
    },
    {
      "cell_type": "code",
      "execution_count": 2,
      "metadata": {
        "id": "ttMsd-D-2Wgi"
      },
      "outputs": [],
      "source": [
        "#Importing Libraries\n",
        "import numpy as np\n",
        "from tensorflow.keras.preprocessing.text import one_hot\n",
        "from tensorflow.keras.preprocessing.sequence import pad_sequences\n",
        "from tensorflow.keras.models import Sequential\n",
        "from tensorflow.keras.layers import Dense\n",
        "from tensorflow.keras.layers import Flatten\n",
        "from tensorflow.keras.layers import Embedding\n"
      ]
    },
    {
      "cell_type": "code",
      "source": [
        "#Creating a small data\n",
        "reviews = ['nice food',\n",
        "           'amazing restaurant',\n",
        "           'too good',\n",
        "           'just loved it',\n",
        "           'will go again',\n",
        "           'horrible food',\n",
        "           'never go there',\n",
        "           'poor service',\n",
        "           'poor quality',\n",
        "           'needs improvement',\n",
        "           ]\n",
        "#Output fot the above data\n",
        "sentiment = np.array([1,1,1,1,1,0,0,0,0,0])"
      ],
      "metadata": {
        "id": "6D9lhdTn-uEi"
      },
      "execution_count": 6,
      "outputs": []
    },
    {
      "cell_type": "code",
      "source": [
        "#one_hot gives vocabulary number for each word\n",
        "one_hot(\"never go there\", 30)"
      ],
      "metadata": {
        "colab": {
          "base_uri": "https://localhost:8080/"
        },
        "id": "VTP773UsA_eH",
        "outputId": "91bce926-3874-4612-d4fd-c90ed8a8cf19"
      },
      "execution_count": 5,
      "outputs": [
        {
          "output_type": "execute_result",
          "data": {
            "text/plain": [
              "[4, 26, 27]"
            ]
          },
          "metadata": {},
          "execution_count": 5
        }
      ]
    },
    {
      "cell_type": "code",
      "source": [
        "vocab_size = 30\n",
        "#One_hot vectorizing the data with the vocabulary size\n",
        "encoded_reviews = [one_hot(d,vocab_size) for d in reviews]\n",
        "encoded_reviews"
      ],
      "metadata": {
        "colab": {
          "base_uri": "https://localhost:8080/"
        },
        "id": "KHmAvsurCqWi",
        "outputId": "112e0103-a3f3-4966-b2f0-8543fb88d6b3"
      },
      "execution_count": 9,
      "outputs": [
        {
          "output_type": "execute_result",
          "data": {
            "text/plain": [
              "[[16, 18],\n",
              " [9, 27],\n",
              " [5, 21],\n",
              " [13, 5, 26],\n",
              " [7, 26, 2],\n",
              " [19, 18],\n",
              " [4, 26, 27],\n",
              " [29, 3],\n",
              " [29, 28],\n",
              " [21, 20]]"
            ]
          },
          "metadata": {},
          "execution_count": 9
        }
      ]
    },
    {
      "cell_type": "code",
      "source": [
        "max_length = 3\n",
        "#Padding the onehot vectors to provide same size\n",
        "padded_reviews = pad_sequences(encoded_reviews,maxlen=max_length,padding='post')\n",
        "padded_reviews"
      ],
      "metadata": {
        "colab": {
          "base_uri": "https://localhost:8080/"
        },
        "id": "E5PIUxWYDKNG",
        "outputId": "f3453885-c65f-4097-b84d-ea446146aabc"
      },
      "execution_count": 13,
      "outputs": [
        {
          "output_type": "execute_result",
          "data": {
            "text/plain": [
              "array([[16, 18,  0],\n",
              "       [ 9, 27,  0],\n",
              "       [ 5, 21,  0],\n",
              "       [13,  5, 26],\n",
              "       [ 7, 26,  2],\n",
              "       [19, 18,  0],\n",
              "       [ 4, 26, 27],\n",
              "       [29,  3,  0],\n",
              "       [29, 28,  0],\n",
              "       [21, 20,  0]], dtype=int32)"
            ]
          },
          "metadata": {},
          "execution_count": 13
        }
      ]
    },
    {
      "cell_type": "code",
      "source": [],
      "metadata": {
        "id": "W4-gC3bSD9dJ"
      },
      "execution_count": null,
      "outputs": []
    }
  ]
}